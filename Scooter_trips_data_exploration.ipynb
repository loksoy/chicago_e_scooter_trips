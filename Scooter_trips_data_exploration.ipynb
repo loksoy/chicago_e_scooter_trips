{
 "cells": [
  {
   "cell_type": "code",
   "execution_count": 1,
   "metadata": {},
   "outputs": [],
   "source": [
    "import json\n",
    "import csv\n",
    "import pandas as pd\n",
    "import numpy as np\n",
    "import datetime"
   ]
  },
  {
   "cell_type": "markdown",
   "metadata": {},
   "source": [
    "# Converting csv to json-file"
   ]
  },
  {
   "cell_type": "code",
   "execution_count": 2,
   "metadata": {},
   "outputs": [],
   "source": [
    "filepath_json = 'insert path here'"
   ]
  },
  {
   "cell_type": "markdown",
   "metadata": {},
   "source": [
    "# Formating data\n",
    "\n",
    "## Converting json-file to DataFrame\n",
    "\n",
    "## Changing data types"
   ]
  },
  {
   "cell_type": "code",
   "execution_count": 3,
   "metadata": {},
   "outputs": [],
   "source": [
    "#Opening dataset and converting to DataFrame\n",
    "with open(filepath_json) as f_obj:\n",
    "    scooter_trips = json.load(f_obj)"
   ]
  },
  {
   "cell_type": "code",
   "execution_count": 4,
   "metadata": {},
   "outputs": [],
   "source": [
    "scooter_trips_df = pd.DataFrame.from_dict(scooter_trips, orient='index')"
   ]
  },
  {
   "cell_type": "code",
   "execution_count": 5,
   "metadata": {},
   "outputs": [
    {
     "data": {
      "text/plain": [
       "(710839, 18)"
      ]
     },
     "execution_count": 5,
     "metadata": {},
     "output_type": "execute_result"
    }
   ],
   "source": [
    "scooter_trips_df.shape"
   ]
  },
  {
   "cell_type": "code",
   "execution_count": 6,
   "metadata": {},
   "outputs": [
    {
     "data": {
      "text/html": [
       "<div>\n",
       "<style scoped>\n",
       "    .dataframe tbody tr th:only-of-type {\n",
       "        vertical-align: middle;\n",
       "    }\n",
       "\n",
       "    .dataframe tbody tr th {\n",
       "        vertical-align: top;\n",
       "    }\n",
       "\n",
       "    .dataframe thead th {\n",
       "        text-align: right;\n",
       "    }\n",
       "</style>\n",
       "<table border=\"1\" class=\"dataframe\">\n",
       "  <thead>\n",
       "    <tr style=\"text-align: right;\">\n",
       "      <th></th>\n",
       "      <th>Trip ID</th>\n",
       "      <th>Start Time</th>\n",
       "      <th>End Time</th>\n",
       "      <th>Trip Distance</th>\n",
       "      <th>Trip Duration</th>\n",
       "      <th>Accuracy</th>\n",
       "      <th>Start Census Tract</th>\n",
       "      <th>End Census Tract</th>\n",
       "      <th>Start Community Area Number</th>\n",
       "      <th>End Community Area Number</th>\n",
       "      <th>Start Community Area Name</th>\n",
       "      <th>End Community Area Name</th>\n",
       "      <th>Start Centroid Latitude</th>\n",
       "      <th>Start Centroid Longitude</th>\n",
       "      <th>Start Centroid Location</th>\n",
       "      <th>End Centroid Latitude</th>\n",
       "      <th>End Centroid Longitude</th>\n",
       "      <th>End Centroid Location</th>\n",
       "    </tr>\n",
       "  </thead>\n",
       "  <tbody>\n",
       "    <tr>\n",
       "      <th>758e9d21-609f-5479-8e2c-5e8f64258202</th>\n",
       "      <td>758e9d21-609f-5479-8e2c-5e8f64258202</td>\n",
       "      <td>07/01/2019 05:00:00 PM</td>\n",
       "      <td>07/01/2019 05:00:00 PM</td>\n",
       "      <td>421</td>\n",
       "      <td>3</td>\n",
       "      <td>1</td>\n",
       "      <td></td>\n",
       "      <td></td>\n",
       "      <td></td>\n",
       "      <td></td>\n",
       "      <td></td>\n",
       "      <td></td>\n",
       "      <td></td>\n",
       "      <td></td>\n",
       "      <td></td>\n",
       "      <td></td>\n",
       "      <td></td>\n",
       "      <td></td>\n",
       "    </tr>\n",
       "    <tr>\n",
       "      <th>ff33490c-254a-5af2-9315-d6b2a45b07f7</th>\n",
       "      <td>ff33490c-254a-5af2-9315-d6b2a45b07f7</td>\n",
       "      <td>06/29/2019 06:00:00 PM</td>\n",
       "      <td>06/29/2019 06:00:00 PM</td>\n",
       "      <td>6318</td>\n",
       "      <td>31</td>\n",
       "      <td>1</td>\n",
       "      <td></td>\n",
       "      <td></td>\n",
       "      <td></td>\n",
       "      <td></td>\n",
       "      <td></td>\n",
       "      <td></td>\n",
       "      <td></td>\n",
       "      <td></td>\n",
       "      <td></td>\n",
       "      <td></td>\n",
       "      <td></td>\n",
       "      <td></td>\n",
       "    </tr>\n",
       "    <tr>\n",
       "      <th>f8a25729-e853-40f3-9200-7eea9f9c45f2</th>\n",
       "      <td>f8a25729-e853-40f3-9200-7eea9f9c45f2</td>\n",
       "      <td>09/16/2019 01:00:00 PM</td>\n",
       "      <td>09/16/2019 01:00:00 PM</td>\n",
       "      <td>77</td>\n",
       "      <td>732</td>\n",
       "      <td>10</td>\n",
       "      <td></td>\n",
       "      <td></td>\n",
       "      <td></td>\n",
       "      <td>25</td>\n",
       "      <td></td>\n",
       "      <td>AUSTIN</td>\n",
       "      <td></td>\n",
       "      <td></td>\n",
       "      <td></td>\n",
       "      <td>41.8941012961134</td>\n",
       "      <td>-87.7631118242259</td>\n",
       "      <td>POINT (-87.7631118242259 41.8941012961134)</td>\n",
       "    </tr>\n",
       "  </tbody>\n",
       "</table>\n",
       "</div>"
      ],
      "text/plain": [
       "                                                                   Trip ID  \\\n",
       "758e9d21-609f-5479-8e2c-5e8f64258202  758e9d21-609f-5479-8e2c-5e8f64258202   \n",
       "ff33490c-254a-5af2-9315-d6b2a45b07f7  ff33490c-254a-5af2-9315-d6b2a45b07f7   \n",
       "f8a25729-e853-40f3-9200-7eea9f9c45f2  f8a25729-e853-40f3-9200-7eea9f9c45f2   \n",
       "\n",
       "                                                  Start Time  \\\n",
       "758e9d21-609f-5479-8e2c-5e8f64258202  07/01/2019 05:00:00 PM   \n",
       "ff33490c-254a-5af2-9315-d6b2a45b07f7  06/29/2019 06:00:00 PM   \n",
       "f8a25729-e853-40f3-9200-7eea9f9c45f2  09/16/2019 01:00:00 PM   \n",
       "\n",
       "                                                    End Time Trip Distance  \\\n",
       "758e9d21-609f-5479-8e2c-5e8f64258202  07/01/2019 05:00:00 PM           421   \n",
       "ff33490c-254a-5af2-9315-d6b2a45b07f7  06/29/2019 06:00:00 PM          6318   \n",
       "f8a25729-e853-40f3-9200-7eea9f9c45f2  09/16/2019 01:00:00 PM            77   \n",
       "\n",
       "                                     Trip Duration Accuracy  \\\n",
       "758e9d21-609f-5479-8e2c-5e8f64258202             3        1   \n",
       "ff33490c-254a-5af2-9315-d6b2a45b07f7            31        1   \n",
       "f8a25729-e853-40f3-9200-7eea9f9c45f2           732       10   \n",
       "\n",
       "                                     Start Census Tract End Census Tract  \\\n",
       "758e9d21-609f-5479-8e2c-5e8f64258202                                       \n",
       "ff33490c-254a-5af2-9315-d6b2a45b07f7                                       \n",
       "f8a25729-e853-40f3-9200-7eea9f9c45f2                                       \n",
       "\n",
       "                                     Start Community Area Number  \\\n",
       "758e9d21-609f-5479-8e2c-5e8f64258202                               \n",
       "ff33490c-254a-5af2-9315-d6b2a45b07f7                               \n",
       "f8a25729-e853-40f3-9200-7eea9f9c45f2                               \n",
       "\n",
       "                                     End Community Area Number  \\\n",
       "758e9d21-609f-5479-8e2c-5e8f64258202                             \n",
       "ff33490c-254a-5af2-9315-d6b2a45b07f7                             \n",
       "f8a25729-e853-40f3-9200-7eea9f9c45f2                        25   \n",
       "\n",
       "                                     Start Community Area Name  \\\n",
       "758e9d21-609f-5479-8e2c-5e8f64258202                             \n",
       "ff33490c-254a-5af2-9315-d6b2a45b07f7                             \n",
       "f8a25729-e853-40f3-9200-7eea9f9c45f2                             \n",
       "\n",
       "                                     End Community Area Name  \\\n",
       "758e9d21-609f-5479-8e2c-5e8f64258202                           \n",
       "ff33490c-254a-5af2-9315-d6b2a45b07f7                           \n",
       "f8a25729-e853-40f3-9200-7eea9f9c45f2                  AUSTIN   \n",
       "\n",
       "                                     Start Centroid Latitude  \\\n",
       "758e9d21-609f-5479-8e2c-5e8f64258202                           \n",
       "ff33490c-254a-5af2-9315-d6b2a45b07f7                           \n",
       "f8a25729-e853-40f3-9200-7eea9f9c45f2                           \n",
       "\n",
       "                                     Start Centroid Longitude  \\\n",
       "758e9d21-609f-5479-8e2c-5e8f64258202                            \n",
       "ff33490c-254a-5af2-9315-d6b2a45b07f7                            \n",
       "f8a25729-e853-40f3-9200-7eea9f9c45f2                            \n",
       "\n",
       "                                     Start Centroid Location  \\\n",
       "758e9d21-609f-5479-8e2c-5e8f64258202                           \n",
       "ff33490c-254a-5af2-9315-d6b2a45b07f7                           \n",
       "f8a25729-e853-40f3-9200-7eea9f9c45f2                           \n",
       "\n",
       "                                     End Centroid Latitude  \\\n",
       "758e9d21-609f-5479-8e2c-5e8f64258202                         \n",
       "ff33490c-254a-5af2-9315-d6b2a45b07f7                         \n",
       "f8a25729-e853-40f3-9200-7eea9f9c45f2      41.8941012961134   \n",
       "\n",
       "                                     End Centroid Longitude  \\\n",
       "758e9d21-609f-5479-8e2c-5e8f64258202                          \n",
       "ff33490c-254a-5af2-9315-d6b2a45b07f7                          \n",
       "f8a25729-e853-40f3-9200-7eea9f9c45f2      -87.7631118242259   \n",
       "\n",
       "                                                           End Centroid Location  \n",
       "758e9d21-609f-5479-8e2c-5e8f64258202                                              \n",
       "ff33490c-254a-5af2-9315-d6b2a45b07f7                                              \n",
       "f8a25729-e853-40f3-9200-7eea9f9c45f2  POINT (-87.7631118242259 41.8941012961134)  "
      ]
     },
     "execution_count": 6,
     "metadata": {},
     "output_type": "execute_result"
    }
   ],
   "source": [
    "scooter_trips_df.head(n=3)"
   ]
  },
  {
   "cell_type": "code",
   "execution_count": 7,
   "metadata": {},
   "outputs": [
    {
     "data": {
      "text/plain": [
       "Trip ID                        object\n",
       "Start Time                     object\n",
       "End Time                       object\n",
       "Trip Distance                  object\n",
       "Trip Duration                  object\n",
       "Accuracy                       object\n",
       "Start Census Tract             object\n",
       "End Census Tract               object\n",
       "Start Community Area Number    object\n",
       "End Community Area Number      object\n",
       "Start Community Area Name      object\n",
       "End Community Area Name        object\n",
       "Start Centroid Latitude        object\n",
       "Start Centroid Longitude       object\n",
       "Start Centroid Location        object\n",
       "End Centroid Latitude          object\n",
       "End Centroid Longitude         object\n",
       "End Centroid Location          object\n",
       "dtype: object"
      ]
     },
     "execution_count": 7,
     "metadata": {},
     "output_type": "execute_result"
    }
   ],
   "source": [
    "#Checking value types in the DataFrame\n",
    "scooter_trips_df.dtypes"
   ]
  },
  {
   "cell_type": "markdown",
   "metadata": {},
   "source": [
    "### From the above we can see two things:\n",
    "\n",
    "1) We have A LOT of data (each entry represents a trip)\n",
    "\n",
    "2) There are some rows that have missing data points\n",
    "\n",
    "3) All the data is in string representation - the data needs to be changed in the right format"
   ]
  },
  {
   "cell_type": "markdown",
   "metadata": {},
   "source": [
    "# Data cleaning\n",
    "\n",
    "From the above I can see that not all of the entries in the dataset will be valuable for the analysis. Especially with regards to trip length both in distance and in time there needs to be established rules for which trips should be evaluated. For instance, with a trip length lower than 100m or less than a minute it is safe to assume that the rider either changed his/her mind and choose other ways of transportation, or that something was wrong with the scooter (e.g. low battery, breaks out of order or other problems with the scooter).\n",
    "\n",
    "### I establish the following rules:\n",
    "1) Data entries that lack either strart or stop coordinates or lenght or duration of trip will be dropped\n",
    "\n",
    "2) Time: At least 1 minute.\n",
    "\n",
    "3) Distance: At least 100m.\n",
    "\n",
    "Implementing these rules will recude the number of instances in the dataset \n",
    "to a smaller an more easily manageable dataset. "
   ]
  },
  {
   "cell_type": "code",
   "execution_count": 8,
   "metadata": {},
   "outputs": [],
   "source": [
    "scooter_trips_df['Trip Distance'] = pd.to_numeric(scooter_trips_df['Trip Distance'])\n",
    "scooter_trips_df['Trip Duration'] = pd.to_numeric(scooter_trips_df['Trip Duration'])"
   ]
  },
  {
   "cell_type": "code",
   "execution_count": 9,
   "metadata": {},
   "outputs": [],
   "source": [
    "#First we fill in blank cells with NaN-values\n",
    "scooter_trips_df = scooter_trips_df.replace(r'^\\s*$', np.nan, regex=True)"
   ]
  },
  {
   "cell_type": "code",
   "execution_count": 10,
   "metadata": {},
   "outputs": [],
   "source": [
    "# Dropping rows with missing values of time, distance, trip lenght or coordinates\n",
    "trips_df = scooter_trips_df.dropna(axis=0, subset=['Start Time', 'End Time', 'Trip Distance', 'Trip Duration',\n",
    "                                                          'Start Centroid Latitude','Start Centroid Longitude',\n",
    "                                                          'End Centroid Latitude','End Centroid Longitude',])"
   ]
  },
  {
   "cell_type": "code",
   "execution_count": 13,
   "metadata": {},
   "outputs": [],
   "source": [
    "#Dropping rows where distance is less than 100 meters or time is less than 60 seconds\n",
    "trips_df = trips_df.drop(trips_df[(trips_df['Trip Distance'] < 100) | (trips_df['Trip Duration'] < 60)].index)"
   ]
  },
  {
   "cell_type": "code",
   "execution_count": 14,
   "metadata": {},
   "outputs": [
    {
     "data": {
      "text/plain": [
       "(530712, 18)"
      ]
     },
     "execution_count": 14,
     "metadata": {},
     "output_type": "execute_result"
    }
   ],
   "source": [
    "trips_df.shape"
   ]
  },
  {
   "cell_type": "markdown",
   "metadata": {},
   "source": [
    "We went from 711 000 entries to 531 000 - almost 200 000 less"
   ]
  },
  {
   "cell_type": "markdown",
   "metadata": {},
   "source": [
    "### All the columns in the dataset contains object types. We need to convert it to the proper values\n",
    "\n",
    "#### We change the data types according to the information about the dataset in Chicago's website: https://data.cityofchicago.org/Transportation/E-Scooter-Trips-2019-Pilot/2kfw-zvte\n",
    "\n",
    "Start Time, End time: Data and time.\n",
    "\n",
    "Trip Distance, Trip Duration, Accuracy, Start Census Tract, End Sensus Tract, Start Community Area Number, End Community Area Number, Start Centroid Latitude, Start Centroid Longitude, End Centroid Latitude, End Centroid Longitude: Numeric-values.\n",
    "\n",
    "Start Community Area Name, End Community Area Name: String (These will remain unchanged).\n"
   ]
  },
  {
   "cell_type": "code",
   "execution_count": 15,
   "metadata": {},
   "outputs": [],
   "source": [
    "# Changing types in DataFrame\n",
    "#Changing string values to numeric values\n",
    "trips_df['Accuracy'] = pd.to_numeric(trips_df['Accuracy'])\n",
    "trips_df['Start Census Tract'] = pd.to_numeric(trips_df['Start Census Tract'])\n",
    "trips_df['End Census Tract'] = pd.to_numeric(trips_df['End Census Tract'])\n",
    "trips_df['Start Community Area Number'] = pd.to_numeric(trips_df['Start Community Area Number'])\n",
    "trips_df['End Community Area Number'] = pd.to_numeric(trips_df['End Community Area Number'])\n",
    "trips_df['Start Centroid Latitude'] = pd.to_numeric(trips_df['Start Centroid Latitude'])\n",
    "trips_df['Start Centroid Longitude'] = pd.to_numeric(trips_df['Start Centroid Longitude'])\n",
    "trips_df['End Centroid Latitude'] = pd.to_numeric(trips_df['End Centroid Latitude'])\n",
    "trips_df['End Centroid Longitude'] = pd.to_numeric(trips_df['End Centroid Longitude'])\n",
    "\n",
    "#Datetime\n",
    "trips_df['Start Time'] = pd.to_datetime(trips_df['Start Time'])\n",
    "trips_df['End Time'] = pd.to_datetime(trips_df['End Time'])"
   ]
  },
  {
   "cell_type": "code",
   "execution_count": 16,
   "metadata": {},
   "outputs": [
    {
     "data": {
      "text/plain": [
       "Trip ID                                object\n",
       "Start Time                     datetime64[ns]\n",
       "End Time                       datetime64[ns]\n",
       "Trip Distance                           int64\n",
       "Trip Duration                           int64\n",
       "Accuracy                                int64\n",
       "Start Census Tract                    float64\n",
       "End Census Tract                      float64\n",
       "Start Community Area Number             int64\n",
       "End Community Area Number               int64\n",
       "Start Community Area Name              object\n",
       "End Community Area Name                object\n",
       "Start Centroid Latitude               float64\n",
       "Start Centroid Longitude              float64\n",
       "Start Centroid Location                object\n",
       "End Centroid Latitude                 float64\n",
       "End Centroid Longitude                float64\n",
       "End Centroid Location                  object\n",
       "dtype: object"
      ]
     },
     "execution_count": 16,
     "metadata": {},
     "output_type": "execute_result"
    }
   ],
   "source": [
    "trips_df.dtypes"
   ]
  },
  {
   "cell_type": "markdown",
   "metadata": {},
   "source": [
    "# Analysis\n"
   ]
  },
  {
   "cell_type": "code",
   "execution_count": 17,
   "metadata": {},
   "outputs": [],
   "source": [
    "import matplotlib.pyplot as plt\n",
    "import seaborn as sns"
   ]
  },
  {
   "cell_type": "code",
   "execution_count": 18,
   "metadata": {},
   "outputs": [],
   "source": [
    "#Creating a new dataset for the data analysis\n",
    "analysis_data = trips_df.loc[:, ['Start Time', 'Trip Distance', 'Trip Duration', 'Start Community Area Name',\n",
    "                                'End Community Area Name']].copy()"
   ]
  },
  {
   "cell_type": "markdown",
   "metadata": {},
   "source": [
    "### Graph showing number of trips over time"
   ]
  },
  {
   "cell_type": "code",
   "execution_count": 19,
   "metadata": {},
   "outputs": [],
   "source": [
    "#Adding new column with values for counting frequency\n",
    "analysis_data['count'] = 1"
   ]
  },
  {
   "cell_type": "code",
   "execution_count": 20,
   "metadata": {},
   "outputs": [],
   "source": [
    "# Creating a dataframe that can be used for showing amount of trips per date\n",
    "trips_by_date = analysis_data.groupby(pd.Grouper(key='Start Time', freq='D')).sum().reset_index()"
   ]
  },
  {
   "cell_type": "code",
   "execution_count": 21,
   "metadata": {},
   "outputs": [
    {
     "data": {
      "text/html": [
       "<div>\n",
       "<style scoped>\n",
       "    .dataframe tbody tr th:only-of-type {\n",
       "        vertical-align: middle;\n",
       "    }\n",
       "\n",
       "    .dataframe tbody tr th {\n",
       "        vertical-align: top;\n",
       "    }\n",
       "\n",
       "    .dataframe thead th {\n",
       "        text-align: right;\n",
       "    }\n",
       "</style>\n",
       "<table border=\"1\" class=\"dataframe\">\n",
       "  <thead>\n",
       "    <tr style=\"text-align: right;\">\n",
       "      <th></th>\n",
       "      <th>Start Time</th>\n",
       "      <th>Trip Distance</th>\n",
       "      <th>Trip Duration</th>\n",
       "      <th>count</th>\n",
       "    </tr>\n",
       "  </thead>\n",
       "  <tbody>\n",
       "    <tr>\n",
       "      <th>0</th>\n",
       "      <td>2019-06-15</td>\n",
       "      <td>11140570</td>\n",
       "      <td>4026851</td>\n",
       "      <td>5102</td>\n",
       "    </tr>\n",
       "    <tr>\n",
       "      <th>1</th>\n",
       "      <td>2019-06-16</td>\n",
       "      <td>13379158</td>\n",
       "      <td>5275851</td>\n",
       "      <td>5907</td>\n",
       "    </tr>\n",
       "    <tr>\n",
       "      <th>2</th>\n",
       "      <td>2019-06-17</td>\n",
       "      <td>14010680</td>\n",
       "      <td>5446590</td>\n",
       "      <td>5541</td>\n",
       "    </tr>\n",
       "    <tr>\n",
       "      <th>3</th>\n",
       "      <td>2019-06-18</td>\n",
       "      <td>18658090</td>\n",
       "      <td>6945023</td>\n",
       "      <td>6687</td>\n",
       "    </tr>\n",
       "    <tr>\n",
       "      <th>4</th>\n",
       "      <td>2019-06-19</td>\n",
       "      <td>14622858</td>\n",
       "      <td>5477971</td>\n",
       "      <td>6005</td>\n",
       "    </tr>\n",
       "  </tbody>\n",
       "</table>\n",
       "</div>"
      ],
      "text/plain": [
       "  Start Time  Trip Distance  Trip Duration  count\n",
       "0 2019-06-15       11140570        4026851   5102\n",
       "1 2019-06-16       13379158        5275851   5907\n",
       "2 2019-06-17       14010680        5446590   5541\n",
       "3 2019-06-18       18658090        6945023   6687\n",
       "4 2019-06-19       14622858        5477971   6005"
      ]
     },
     "execution_count": 21,
     "metadata": {},
     "output_type": "execute_result"
    }
   ],
   "source": [
    "trips_by_date.head()"
   ]
  },
  {
   "cell_type": "code",
   "execution_count": 22,
   "metadata": {},
   "outputs": [
    {
     "data": {
      "text/plain": [
       "4279.935483870968"
      ]
     },
     "execution_count": 22,
     "metadata": {},
     "output_type": "execute_result"
    }
   ],
   "source": [
    "#Calculating average line\n",
    "daily_average_pilot = trips_by_date['count'].mean()\n",
    "daily_average_pilot"
   ]
  },
  {
   "cell_type": "code",
   "execution_count": 23,
   "metadata": {},
   "outputs": [
    {
     "data": {
      "image/png": "[encoded data removed]",
      "text/plain": [
       "<Figure size 1080x504 with 1 Axes>"
      ]
     },
     "metadata": {
      "needs_background": "light"
     },
     "output_type": "display_data"
    }
   ],
   "source": [
    "#Creating graph showing the number of trips (y-axis) over time (x-axis)\n",
    "#Setting figure size and style\n",
    "plt.figure(figsize=(15, 7))\n",
    "sns.set(style='darkgrid')\n",
    "\n",
    "#Creating the lineplot\n",
    "trips_by_date_lineplot = sns.lineplot(x='Start Time', y = 'count', data = trips_by_date, \n",
    "             palette = \"colorblind\", )\n",
    "\n",
    "#Inserting a static average-line\n",
    "trips_by_date_lineplot.axhline(daily_average_pilot, linestyle=\"--\", color=\"red\", label=\"Average = 4,280\") \n",
    "\n",
    "#Setting labels and title\n",
    "plt.title('Number of trips by date', fontsize = 20)\n",
    "plt.xlabel('Date', fontsize = 15)\n",
    "plt.ylabel('Number of trips', fontsize = 15)\n",
    "plt.xticks(rotation=45)\n",
    "\n",
    "#Plotting lineplot\n",
    "plt.legend()\n",
    "plt.show()"
   ]
  },
  {
   "cell_type": "markdown",
   "metadata": {},
   "source": [
    "### Distribution of trips over the weekdays"
   ]
  },
  {
   "cell_type": "code",
   "execution_count": 24,
   "metadata": {},
   "outputs": [],
   "source": [
    "#Creating a copy of the dataframe\n",
    "trips_by_day = analysis_data.copy()"
   ]
  },
  {
   "cell_type": "code",
   "execution_count": 25,
   "metadata": {},
   "outputs": [],
   "source": [
    "#Adding a column with weekday names\n",
    "trips_by_day['weekday'] = trips_by_day['Start Time'].dt.day_name()"
   ]
  },
  {
   "cell_type": "code",
   "execution_count": 26,
   "metadata": {},
   "outputs": [],
   "source": [
    "#Converting values of weekday-column to ordered catagorical (sorting by weekday name)\n",
    "cats = ['Monday', 'Tuesday', 'Wednesday', 'Thursday', 'Friday', 'Saturday', 'Sunday']\n",
    "trips_by_day['weekday'] = pd.Categorical(trips_by_day['weekday'], categories=cats, ordered=True)"
   ]
  },
  {
   "cell_type": "code",
   "execution_count": 27,
   "metadata": {},
   "outputs": [],
   "source": [
    "# Summarizing trips by weekday name\n",
    "trips_by_day = trips_by_day.groupby('weekday').sum().reset_index()"
   ]
  },
  {
   "cell_type": "code",
   "execution_count": 28,
   "metadata": {},
   "outputs": [
    {
     "data": {
      "text/html": [
       "<div>\n",
       "<style scoped>\n",
       "    .dataframe tbody tr th:only-of-type {\n",
       "        vertical-align: middle;\n",
       "    }\n",
       "\n",
       "    .dataframe tbody tr th {\n",
       "        vertical-align: top;\n",
       "    }\n",
       "\n",
       "    .dataframe thead th {\n",
       "        text-align: right;\n",
       "    }\n",
       "</style>\n",
       "<table border=\"1\" class=\"dataframe\">\n",
       "  <thead>\n",
       "    <tr style=\"text-align: right;\">\n",
       "      <th></th>\n",
       "      <th>weekday</th>\n",
       "      <th>Trip Distance</th>\n",
       "      <th>Trip Duration</th>\n",
       "      <th>count</th>\n",
       "    </tr>\n",
       "  </thead>\n",
       "  <tbody>\n",
       "    <tr>\n",
       "      <th>0</th>\n",
       "      <td>Monday</td>\n",
       "      <td>277691757</td>\n",
       "      <td>53893189</td>\n",
       "      <td>69014</td>\n",
       "    </tr>\n",
       "    <tr>\n",
       "      <th>1</th>\n",
       "      <td>Tuesday</td>\n",
       "      <td>201500776</td>\n",
       "      <td>54303386</td>\n",
       "      <td>71709</td>\n",
       "    </tr>\n",
       "    <tr>\n",
       "      <th>2</th>\n",
       "      <td>Wednesday</td>\n",
       "      <td>715556203</td>\n",
       "      <td>53718293</td>\n",
       "      <td>73375</td>\n",
       "    </tr>\n",
       "    <tr>\n",
       "      <th>3</th>\n",
       "      <td>Thursday</td>\n",
       "      <td>572582079</td>\n",
       "      <td>56769325</td>\n",
       "      <td>74591</td>\n",
       "    </tr>\n",
       "    <tr>\n",
       "      <th>4</th>\n",
       "      <td>Friday</td>\n",
       "      <td>194551579</td>\n",
       "      <td>63769562</td>\n",
       "      <td>81780</td>\n",
       "    </tr>\n",
       "  </tbody>\n",
       "</table>\n",
       "</div>"
      ],
      "text/plain": [
       "     weekday  Trip Distance  Trip Duration  count\n",
       "0     Monday      277691757       53893189  69014\n",
       "1    Tuesday      201500776       54303386  71709\n",
       "2  Wednesday      715556203       53718293  73375\n",
       "3   Thursday      572582079       56769325  74591\n",
       "4     Friday      194551579       63769562  81780"
      ]
     },
     "execution_count": 28,
     "metadata": {},
     "output_type": "execute_result"
    }
   ],
   "source": [
    "trips_by_day.head()"
   ]
  },
  {
   "cell_type": "code",
   "execution_count": 29,
   "metadata": {},
   "outputs": [
    {
     "data": {
      "text/plain": [
       "75816.0"
      ]
     },
     "execution_count": 29,
     "metadata": {},
     "output_type": "execute_result"
    }
   ],
   "source": [
    "#Calculating daily average number of trips by week\n",
    "average_count_week = trips_by_day['count'].mean()\n",
    "average_count_week"
   ]
  },
  {
   "cell_type": "code",
   "execution_count": 30,
   "metadata": {},
   "outputs": [
    {
     "data": {
      "image/png": "[encoded data removed]",
      "text/plain": [
       "<Figure size 864x432 with 1 Axes>"
      ]
     },
     "metadata": {},
     "output_type": "display_data"
    }
   ],
   "source": [
    "# Creating graph showing the number of electric scooter trips by weekday\n",
    "plt.figure(figsize=(12, 6))\n",
    "sns.set(style='whitegrid')\n",
    "\n",
    "trips_by_week_barplot = sns.barplot(x='weekday', y = 'count', data = trips_by_day, \n",
    "             palette = \"colorblind\", )\n",
    "\n",
    "\n",
    "#Drawing a horizontal line at the daily average\n",
    "trips_by_week_barplot.axhline(average_count_week, linestyle=\"--\", color=\"red\", label=\"Average = 75,816\") \n",
    "\n",
    "plt.title('Number of trips by day of week', fontsize = 20)\n",
    "plt.xlabel('Day of week', fontsize = 20)\n",
    "plt.ylabel('Number of trips', fontsize = 20)\n",
    "\n",
    "plt.legend()\n",
    "plt.show()"
   ]
  },
  {
   "cell_type": "markdown",
   "metadata": {},
   "source": [
    "### Distribution of trips over hours of the day"
   ]
  },
  {
   "cell_type": "code",
   "execution_count": 31,
   "metadata": {},
   "outputs": [],
   "source": [
    "trips_by_hour = analysis_data.copy()"
   ]
  },
  {
   "cell_type": "code",
   "execution_count": 32,
   "metadata": {},
   "outputs": [],
   "source": [
    "trips_by_hour['hour_of_day'] = trips_by_hour['Start Time'].dt.hour"
   ]
  },
  {
   "cell_type": "code",
   "execution_count": 33,
   "metadata": {},
   "outputs": [],
   "source": [
    "trips_by_hour = trips_by_hour.groupby('hour_of_day').sum().reset_index()"
   ]
  },
  {
   "cell_type": "code",
   "execution_count": 34,
   "metadata": {},
   "outputs": [
    {
     "data": {
      "image/png": "[encoded data removed]",
      "text/plain": [
       "<Figure size 1008x504 with 1 Axes>"
      ]
     },
     "metadata": {},
     "output_type": "display_data"
    }
   ],
   "source": [
    "# Creating graph showing the number of electric scooter trips by weekday\n",
    "plt.figure(figsize=(14, 7))\n",
    "sns.set(style='whitegrid')\n",
    "\n",
    "trips_by_hour_barplot = sns.barplot(x='hour_of_day', y = 'count', data = trips_by_hour, \n",
    "             palette = \"colorblind\", )\n",
    "\n",
    "plt.title('Number of trips by the hour of the day', fontsize = 20)\n",
    "plt.xlabel('Hour of the day', fontsize = 20)\n",
    "plt.ylabel('Number of trips', fontsize = 20)\n",
    "\n",
    "plt.show()"
   ]
  },
  {
   "cell_type": "markdown",
   "metadata": {},
   "source": [
    "## Difference of usage first month to last month"
   ]
  },
  {
   "cell_type": "markdown",
   "metadata": {},
   "source": [
    "Sammenligne bruken i første måned bruken i siste måned. Se forskjell på hvor lange turene var i første måned vs hvor lange turene var i siste måned, se om distribusjonen over ukedagene vs helg er forskjellig...\n",
    "\n",
    "In this subsection I will compare the use over the first 30 days versus the last 30 days of the pilot project. From the line graph showing use over time we see that at the end of the pilot project it seems as if no data was store from 2019-09-29 and then all of a sudden there are new trip entries. \n",
    "\n",
    "Therefore the last 30 days will be be in the time period 2019-08-29 to 2019-09-29, whilst the first time period will be from 2019-06-15 to 2019-07-15."
   ]
  },
  {
   "cell_type": "markdown",
   "metadata": {},
   "source": [
    "### 1. Comparing number of trips per day"
   ]
  },
  {
   "cell_type": "code",
   "execution_count": 35,
   "metadata": {},
   "outputs": [],
   "source": [
    "#Creating new dataframe\n",
    "first_last_month = analysis_data.copy()"
   ]
  },
  {
   "cell_type": "code",
   "execution_count": 36,
   "metadata": {},
   "outputs": [],
   "source": [
    "#Creating new column that contains date without time\n",
    "first_last_month['date'] = first_last_month['Start Time'].dt.date"
   ]
  },
  {
   "cell_type": "code",
   "execution_count": 37,
   "metadata": {},
   "outputs": [
    {
     "data": {
      "text/html": [
       "<div>\n",
       "<style scoped>\n",
       "    .dataframe tbody tr th:only-of-type {\n",
       "        vertical-align: middle;\n",
       "    }\n",
       "\n",
       "    .dataframe tbody tr th {\n",
       "        vertical-align: top;\n",
       "    }\n",
       "\n",
       "    .dataframe thead th {\n",
       "        text-align: right;\n",
       "    }\n",
       "</style>\n",
       "<table border=\"1\" class=\"dataframe\">\n",
       "  <thead>\n",
       "    <tr style=\"text-align: right;\">\n",
       "      <th></th>\n",
       "      <th>Start Time</th>\n",
       "      <th>Trip Distance</th>\n",
       "      <th>Trip Duration</th>\n",
       "      <th>Start Community Area Name</th>\n",
       "      <th>End Community Area Name</th>\n",
       "      <th>count</th>\n",
       "      <th>date</th>\n",
       "    </tr>\n",
       "  </thead>\n",
       "  <tbody>\n",
       "    <tr>\n",
       "      <th>11d42b99-e839-346c-11d4-2b99e839346c</th>\n",
       "      <td>2019-06-24 19:00:00</td>\n",
       "      <td>917</td>\n",
       "      <td>359</td>\n",
       "      <td>AUSTIN</td>\n",
       "      <td>AUSTIN</td>\n",
       "      <td>1</td>\n",
       "      <td>2019-06-24</td>\n",
       "    </tr>\n",
       "    <tr>\n",
       "      <th>11ed0125-e5b6-6ab6-11ed-0125e5b66ab6</th>\n",
       "      <td>2019-07-13 15:00:00</td>\n",
       "      <td>112</td>\n",
       "      <td>424</td>\n",
       "      <td>AVONDALE</td>\n",
       "      <td>AVONDALE</td>\n",
       "      <td>1</td>\n",
       "      <td>2019-07-13</td>\n",
       "    </tr>\n",
       "    <tr>\n",
       "      <th>1690f90b-0a0a-402d-b493-ed351d7e0946</th>\n",
       "      <td>2019-07-20 18:00:00</td>\n",
       "      <td>1725</td>\n",
       "      <td>1141</td>\n",
       "      <td>AVONDALE</td>\n",
       "      <td>AVONDALE</td>\n",
       "      <td>1</td>\n",
       "      <td>2019-07-20</td>\n",
       "    </tr>\n",
       "    <tr>\n",
       "      <th>b1a423cc-4544-4edc-9cdf-857a952d98c2</th>\n",
       "      <td>2019-06-30 20:00:00</td>\n",
       "      <td>1107</td>\n",
       "      <td>2519</td>\n",
       "      <td>AVONDALE</td>\n",
       "      <td>AVONDALE</td>\n",
       "      <td>1</td>\n",
       "      <td>2019-06-30</td>\n",
       "    </tr>\n",
       "    <tr>\n",
       "      <th>123586b2-4ad4-694e-1235-86b24ad4694e</th>\n",
       "      <td>2019-09-06 15:00:00</td>\n",
       "      <td>2977</td>\n",
       "      <td>572</td>\n",
       "      <td>BELMONT CRAGIN</td>\n",
       "      <td>AVONDALE</td>\n",
       "      <td>1</td>\n",
       "      <td>2019-09-06</td>\n",
       "    </tr>\n",
       "  </tbody>\n",
       "</table>\n",
       "</div>"
      ],
      "text/plain": [
       "                                              Start Time  Trip Distance  \\\n",
       "11d42b99-e839-346c-11d4-2b99e839346c 2019-06-24 19:00:00            917   \n",
       "11ed0125-e5b6-6ab6-11ed-0125e5b66ab6 2019-07-13 15:00:00            112   \n",
       "1690f90b-0a0a-402d-b493-ed351d7e0946 2019-07-20 18:00:00           1725   \n",
       "b1a423cc-4544-4edc-9cdf-857a952d98c2 2019-06-30 20:00:00           1107   \n",
       "123586b2-4ad4-694e-1235-86b24ad4694e 2019-09-06 15:00:00           2977   \n",
       "\n",
       "                                      Trip Duration Start Community Area Name  \\\n",
       "11d42b99-e839-346c-11d4-2b99e839346c            359                    AUSTIN   \n",
       "11ed0125-e5b6-6ab6-11ed-0125e5b66ab6            424                  AVONDALE   \n",
       "1690f90b-0a0a-402d-b493-ed351d7e0946           1141                  AVONDALE   \n",
       "b1a423cc-4544-4edc-9cdf-857a952d98c2           2519                  AVONDALE   \n",
       "123586b2-4ad4-694e-1235-86b24ad4694e            572            BELMONT CRAGIN   \n",
       "\n",
       "                                     End Community Area Name  count  \\\n",
       "11d42b99-e839-346c-11d4-2b99e839346c                  AUSTIN      1   \n",
       "11ed0125-e5b6-6ab6-11ed-0125e5b66ab6                AVONDALE      1   \n",
       "1690f90b-0a0a-402d-b493-ed351d7e0946                AVONDALE      1   \n",
       "b1a423cc-4544-4edc-9cdf-857a952d98c2                AVONDALE      1   \n",
       "123586b2-4ad4-694e-1235-86b24ad4694e                AVONDALE      1   \n",
       "\n",
       "                                            date  \n",
       "11d42b99-e839-346c-11d4-2b99e839346c  2019-06-24  \n",
       "11ed0125-e5b6-6ab6-11ed-0125e5b66ab6  2019-07-13  \n",
       "1690f90b-0a0a-402d-b493-ed351d7e0946  2019-07-20  \n",
       "b1a423cc-4544-4edc-9cdf-857a952d98c2  2019-06-30  \n",
       "123586b2-4ad4-694e-1235-86b24ad4694e  2019-09-06  "
      ]
     },
     "execution_count": 37,
     "metadata": {},
     "output_type": "execute_result"
    }
   ],
   "source": [
    "first_last_month.head()"
   ]
  },
  {
   "cell_type": "code",
   "execution_count": 38,
   "metadata": {},
   "outputs": [],
   "source": [
    "# Covnerting new date column to datetime object\n",
    "first_last_month['date'] = pd.to_datetime(first_last_month['date'])"
   ]
  },
  {
   "cell_type": "code",
   "execution_count": 39,
   "metadata": {},
   "outputs": [],
   "source": [
    "#Filtering out trips for the first 30 days (2019-06-15 to 2019-07-15)\n",
    "first_month = first_last_month.query(\"date >= '2019-06-15' and date <'2019-07-15'\")"
   ]
  },
  {
   "cell_type": "code",
   "execution_count": 40,
   "metadata": {},
   "outputs": [
    {
     "name": "stderr",
     "output_type": "stream",
     "text": [
      "/Users/evennikolailokoy/anaconda3/lib/python3.7/site-packages/ipykernel_launcher.py:1: SettingWithCopyWarning: \n",
      "A value is trying to be set on a copy of a slice from a DataFrame.\n",
      "Try using .loc[row_indexer,col_indexer] = value instead\n",
      "\n",
      "See the caveats in the documentation: https://pandas.pydata.org/pandas-docs/stable/user_guide/indexing.html#returning-a-view-versus-a-copy\n",
      "  \"\"\"Entry point for launching an IPython kernel.\n"
     ]
    }
   ],
   "source": [
    "first_month['Time Period'] = 'first 30 days'"
   ]
  },
  {
   "cell_type": "code",
   "execution_count": 41,
   "metadata": {},
   "outputs": [
    {
     "data": {
      "text/plain": [
       "177432"
      ]
     },
     "execution_count": 41,
     "metadata": {},
     "output_type": "execute_result"
    }
   ],
   "source": [
    "len(first_month)"
   ]
  },
  {
   "cell_type": "code",
   "execution_count": 42,
   "metadata": {},
   "outputs": [],
   "source": [
    "#Filtering out trips for the last 30 days (2019-08-29-2019-09-29)\n",
    "last_month = first_last_month.query(\"date > '2019-08-30' and date <= '2019-09-30'\")"
   ]
  },
  {
   "cell_type": "code",
   "execution_count": 43,
   "metadata": {},
   "outputs": [
    {
     "name": "stderr",
     "output_type": "stream",
     "text": [
      "/Users/evennikolailokoy/anaconda3/lib/python3.7/site-packages/ipykernel_launcher.py:1: SettingWithCopyWarning: \n",
      "A value is trying to be set on a copy of a slice from a DataFrame.\n",
      "Try using .loc[row_indexer,col_indexer] = value instead\n",
      "\n",
      "See the caveats in the documentation: https://pandas.pydata.org/pandas-docs/stable/user_guide/indexing.html#returning-a-view-versus-a-copy\n",
      "  \"\"\"Entry point for launching an IPython kernel.\n"
     ]
    }
   ],
   "source": [
    "last_month['Time Period'] = 'last 30 days'"
   ]
  },
  {
   "cell_type": "code",
   "execution_count": 44,
   "metadata": {},
   "outputs": [
    {
     "data": {
      "text/plain": [
       "128606"
      ]
     },
     "execution_count": 44,
     "metadata": {},
     "output_type": "execute_result"
    }
   ],
   "source": [
    "len(last_month)"
   ]
  },
  {
   "cell_type": "markdown",
   "metadata": {},
   "source": [
    "We can see by the lenght of the two dataframes that there were about 47 000 more trips the first 30 days, compared to the last 30 days. This makes sense. At the beginning of the pilot project the electric scooters must have been a new phenomenom that made many people curios to try it. "
   ]
  },
  {
   "cell_type": "code",
   "execution_count": 45,
   "metadata": {},
   "outputs": [],
   "source": [
    "#Merging together the two dataframes\n",
    "first_last_month = pd.concat([first_month, last_month])"
   ]
  },
  {
   "cell_type": "code",
   "execution_count": 46,
   "metadata": {},
   "outputs": [],
   "source": [
    "#Adding a column with weekday names\n",
    "first_last_month['weekday'] = first_last_month['date'].dt.day_name()"
   ]
  },
  {
   "cell_type": "code",
   "execution_count": 47,
   "metadata": {},
   "outputs": [],
   "source": [
    "#Converting values of weekday-column to ordered catagorical (sorting by weekday name)\n",
    "first_last_month['weekday'] = pd.Categorical(first_last_month['weekday'], categories=cats, ordered=True)"
   ]
  },
  {
   "cell_type": "code",
   "execution_count": 48,
   "metadata": {},
   "outputs": [],
   "source": [
    "# Summarizing trips by weekday name\n",
    "first_last_month_by_day = first_last_month.groupby(['weekday','Time Period']).sum().reset_index()"
   ]
  },
  {
   "cell_type": "code",
   "execution_count": 49,
   "metadata": {},
   "outputs": [
    {
     "data": {
      "text/html": [
       "<div>\n",
       "<style scoped>\n",
       "    .dataframe tbody tr th:only-of-type {\n",
       "        vertical-align: middle;\n",
       "    }\n",
       "\n",
       "    .dataframe tbody tr th {\n",
       "        vertical-align: top;\n",
       "    }\n",
       "\n",
       "    .dataframe thead th {\n",
       "        text-align: right;\n",
       "    }\n",
       "</style>\n",
       "<table border=\"1\" class=\"dataframe\">\n",
       "  <thead>\n",
       "    <tr style=\"text-align: right;\">\n",
       "      <th></th>\n",
       "      <th>weekday</th>\n",
       "      <th>Time Period</th>\n",
       "      <th>Trip Distance</th>\n",
       "      <th>Trip Duration</th>\n",
       "      <th>count</th>\n",
       "    </tr>\n",
       "  </thead>\n",
       "  <tbody>\n",
       "    <tr>\n",
       "      <th>0</th>\n",
       "      <td>Monday</td>\n",
       "      <td>first 30 days</td>\n",
       "      <td>54064682</td>\n",
       "      <td>20192246</td>\n",
       "      <td>21687</td>\n",
       "    </tr>\n",
       "    <tr>\n",
       "      <th>1</th>\n",
       "      <td>Monday</td>\n",
       "      <td>last 30 days</td>\n",
       "      <td>103801496</td>\n",
       "      <td>13518105</td>\n",
       "      <td>20531</td>\n",
       "    </tr>\n",
       "    <tr>\n",
       "      <th>2</th>\n",
       "      <td>Tuesday</td>\n",
       "      <td>first 30 days</td>\n",
       "      <td>79810714</td>\n",
       "      <td>21177101</td>\n",
       "      <td>22716</td>\n",
       "    </tr>\n",
       "    <tr>\n",
       "      <th>3</th>\n",
       "      <td>Tuesday</td>\n",
       "      <td>last 30 days</td>\n",
       "      <td>35154897</td>\n",
       "      <td>10255697</td>\n",
       "      <td>16765</td>\n",
       "    </tr>\n",
       "    <tr>\n",
       "      <th>4</th>\n",
       "      <td>Wednesday</td>\n",
       "      <td>first 30 days</td>\n",
       "      <td>78348790</td>\n",
       "      <td>19916659</td>\n",
       "      <td>23399</td>\n",
       "    </tr>\n",
       "  </tbody>\n",
       "</table>\n",
       "</div>"
      ],
      "text/plain": [
       "     weekday    Time Period  Trip Distance  Trip Duration  count\n",
       "0     Monday  first 30 days       54064682       20192246  21687\n",
       "1     Monday   last 30 days      103801496       13518105  20531\n",
       "2    Tuesday  first 30 days       79810714       21177101  22716\n",
       "3    Tuesday   last 30 days       35154897       10255697  16765\n",
       "4  Wednesday  first 30 days       78348790       19916659  23399"
      ]
     },
     "execution_count": 49,
     "metadata": {},
     "output_type": "execute_result"
    }
   ],
   "source": [
    "first_last_month_by_day.head()"
   ]
  },
  {
   "cell_type": "code",
   "execution_count": 50,
   "metadata": {},
   "outputs": [
    {
     "data": {
      "image/png": "[encoded data removed]",
      "text/plain": [
       "<Figure size 864x432 with 1 Axes>"
      ]
     },
     "metadata": {},
     "output_type": "display_data"
    }
   ],
   "source": [
    "## Creating graph showing the number of electric scooter trips by weekday\n",
    "plt.figure(figsize=(12, 6))\n",
    "sns.set(style='whitegrid')\n",
    "\n",
    "first_last_graph = sns.barplot(x='weekday', y = 'count', hue= 'Time Period', data = first_last_month_by_day, \n",
    "             palette = \"colorblind\", )\n",
    "\n",
    "plt.title('Number of trips by day of week for first and last 30 days', fontsize = 20)\n",
    "plt.xlabel('Day of week', fontsize = 20)\n",
    "plt.ylabel('Number of trips', fontsize = 20)\n",
    "\n",
    "plt.show()"
   ]
  },
  {
   "cell_type": "markdown",
   "metadata": {},
   "source": [
    "### 2. Comparing distance and duration of trips"
   ]
  },
  {
   "cell_type": "code",
   "execution_count": 51,
   "metadata": {},
   "outputs": [],
   "source": [
    "# Calculating average Trip Distance and Trip duration\n",
    "first_last_month_average = first_last_month.groupby('Time Period').mean().reset_index()"
   ]
  },
  {
   "cell_type": "code",
   "execution_count": 52,
   "metadata": {},
   "outputs": [
    {
     "data": {
      "text/html": [
       "<div>\n",
       "<style scoped>\n",
       "    .dataframe tbody tr th:only-of-type {\n",
       "        vertical-align: middle;\n",
       "    }\n",
       "\n",
       "    .dataframe tbody tr th {\n",
       "        vertical-align: top;\n",
       "    }\n",
       "\n",
       "    .dataframe thead th {\n",
       "        text-align: right;\n",
       "    }\n",
       "</style>\n",
       "<table border=\"1\" class=\"dataframe\">\n",
       "  <thead>\n",
       "    <tr style=\"text-align: right;\">\n",
       "      <th></th>\n",
       "      <th>Time Period</th>\n",
       "      <th>Trip Distance</th>\n",
       "      <th>Trip Duration</th>\n",
       "      <th>count</th>\n",
       "    </tr>\n",
       "  </thead>\n",
       "  <tbody>\n",
       "    <tr>\n",
       "      <th>0</th>\n",
       "      <td>first 30 days</td>\n",
       "      <td>5065.064909</td>\n",
       "      <td>939.047460</td>\n",
       "      <td>1.0</td>\n",
       "    </tr>\n",
       "    <tr>\n",
       "      <th>1</th>\n",
       "      <td>last 30 days</td>\n",
       "      <td>6859.446254</td>\n",
       "      <td>669.238784</td>\n",
       "      <td>1.0</td>\n",
       "    </tr>\n",
       "  </tbody>\n",
       "</table>\n",
       "</div>"
      ],
      "text/plain": [
       "     Time Period  Trip Distance  Trip Duration  count\n",
       "0  first 30 days    5065.064909     939.047460    1.0\n",
       "1   last 30 days    6859.446254     669.238784    1.0"
      ]
     },
     "execution_count": 52,
     "metadata": {},
     "output_type": "execute_result"
    }
   ],
   "source": [
    "#Overview of trip length first 30 days vs last 30 days\n",
    "first_last_month_average"
   ]
  },
  {
   "cell_type": "code",
   "execution_count": 53,
   "metadata": {},
   "outputs": [],
   "source": [
    "difference_duration = ((first_last_month_average.loc[0, 'Trip Duration'] / first_last_month_average.loc[1, 'Trip Duration']) - 1)\n",
    "difference_distance = first_last_month_average.loc[0, 'Trip Distance'] / first_last_month_average.loc[1, 'Trip Distance']"
   ]
  },
  {
   "cell_type": "code",
   "execution_count": 54,
   "metadata": {},
   "outputs": [
    {
     "name": "stdout",
     "output_type": "stream",
     "text": [
      "The trip duration was 40.3% percentage longer the first 30 days compared to the last 30 days\n",
      "The trip distance covered in the first 30 days was only 73.8% percent compared to the distance covered the last 30 days\n"
     ]
    }
   ],
   "source": [
    "print(\"The trip duration was {:.1%} percentage longer the first 30 days compared to the last 30 days\".format(difference_duration))\n",
    "print(\"The trip distance covered in the first 30 days was only {:.1%} percent compared to the distance covered the last 30 days\".format(difference_distance))"
   ]
  },
  {
   "cell_type": "markdown",
   "metadata": {},
   "source": [
    "## 3. Comparing number of trips per hour"
   ]
  },
  {
   "cell_type": "code",
   "execution_count": 55,
   "metadata": {},
   "outputs": [],
   "source": [
    "# Creating column for hour of day\n",
    "first_last_month['hour_of_day'] = first_last_month['Start Time'].dt.hour"
   ]
  },
  {
   "cell_type": "code",
   "execution_count": 56,
   "metadata": {},
   "outputs": [],
   "source": [
    "trips_by_hour_first_last = first_last_month.groupby(['hour_of_day', 'Time Period']).sum().reset_index()"
   ]
  },
  {
   "cell_type": "code",
   "execution_count": 57,
   "metadata": {},
   "outputs": [
    {
     "data": {
      "image/png": "[encoded data removed]",
      "text/plain": [
       "<Figure size 864x432 with 1 Axes>"
      ]
     },
     "metadata": {},
     "output_type": "display_data"
    }
   ],
   "source": [
    "# Creating graph showing the number of electric scooter trips by weekday\n",
    "plt.figure(figsize=(12, 6))\n",
    "sns.set(style='whitegrid')\n",
    "\n",
    "graph1 = sns.lineplot(x='hour_of_day', y = 'count', hue='Time Period', data = trips_by_hour_first_last, \n",
    "             palette = \"colorblind\", )\n",
    "\n",
    "plt.title('Number of trips by the hour of the day', fontsize = 20)\n",
    "plt.xlabel('Hour of the day', fontsize = 20)\n",
    "plt.ylabel('Number of trips', fontsize = 20)\n",
    "\n",
    "plt.show()"
   ]
  }
 ],
 "metadata": {
  "kernelspec": {
   "display_name": "Python 3",
   "language": "python",
   "name": "python3"
  },
  "language_info": {
   "codemirror_mode": {
    "name": "ipython",
    "version": 3
   },
   "file_extension": ".py",
   "mimetype": "text/x-python",
   "name": "python",
   "nbconvert_exporter": "python",
   "pygments_lexer": "ipython3",
   "version": "3.7.9"
  }
 },
 "nbformat": 4,
 "nbformat_minor": 4
}
